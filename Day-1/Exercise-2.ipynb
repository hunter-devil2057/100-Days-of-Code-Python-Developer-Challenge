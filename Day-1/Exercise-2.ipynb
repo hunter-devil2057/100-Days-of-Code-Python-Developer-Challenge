{
 "cells": [
  {
   "cell_type": "markdown",
   "metadata": {},
   "source": [
    "Create two variables (you can freely choose the names) and assign to them following values:\n",
    "        'Python', '3.8'\n",
    "Using these variables and the print() function, print to the console the following text:\n",
    "            I love Python 3.8!\n"
   ]
  },
  {
   "cell_type": "code",
   "execution_count": 1,
   "metadata": {},
   "outputs": [
    {
     "name": "stdout",
     "output_type": "stream",
     "text": [
      "I love Python 3.8!\n"
     ]
    }
   ],
   "source": [
    "var1='Python'\n",
    "var2='3.8'\n",
    "print(f\"I love {var1} {var2}!\")"
   ]
  }
 ],
 "metadata": {
  "kernelspec": {
   "display_name": "Python 3",
   "language": "python",
   "name": "python3"
  },
  "language_info": {
   "codemirror_mode": {
    "name": "ipython",
    "version": 3
   },
   "file_extension": ".py",
   "mimetype": "text/x-python",
   "name": "python",
   "nbconvert_exporter": "python",
   "pygments_lexer": "ipython3",
   "version": "3.12.4"
  }
 },
 "nbformat": 4,
 "nbformat_minor": 2
}
