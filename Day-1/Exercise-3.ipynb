{
 "cells": [
  {
   "cell_type": "markdown",
   "metadata": {},
   "source": [
    "Assign two variables that store the following values:\n",
    "    $ 42.99 - product price (float)\n",
    "    30 lbs - product weight (int)\n",
    "Using the f-string formatting style print to the console the following message:\n",
    "    Price: $42.99. Weight: 30 lbs."
   ]
  },
  {
   "cell_type": "code",
   "execution_count": 1,
   "metadata": {},
   "outputs": [
    {
     "name": "stdout",
     "output_type": "stream",
     "text": [
      "Price: $42.99. Weight: 30 lbs.\n"
     ]
    }
   ],
   "source": [
    "price=42.99\n",
    "weight=30\n",
    "print(f\"Price: ${price}. Weight: {weight} lbs.\")"
   ]
  }
 ],
 "metadata": {
  "kernelspec": {
   "display_name": "Python 3",
   "language": "python",
   "name": "python3"
  },
  "language_info": {
   "codemirror_mode": {
    "name": "ipython",
    "version": 3
   },
   "file_extension": ".py",
   "mimetype": "text/x-python",
   "name": "python",
   "nbconvert_exporter": "python",
   "pygments_lexer": "ipython3",
   "version": "3.12.4"
  }
 },
 "nbformat": 4,
 "nbformat_minor": 2
}
