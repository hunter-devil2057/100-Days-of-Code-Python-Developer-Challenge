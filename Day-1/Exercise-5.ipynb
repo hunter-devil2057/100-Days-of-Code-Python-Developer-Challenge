{
 "cells": [
  {
   "cell_type": "markdown",
   "metadata": {},
   "source": [
    "Write a program that calculates the future value of 1000 USD with an annual interest rate of 3%, annual capitalization and a 5-year investment period. Round the result to the nearest cent.\n",
    "Tip: Use compound capitalization of interest.\n",
    "Print the result to the console as shown below.\n",
    "Expected Result:\n",
    "    The future value of the investment: 1159.27 USD"
   ]
  },
  {
   "cell_type": "code",
   "execution_count": 14,
   "metadata": {},
   "outputs": [
    {
     "name": "stdout",
     "output_type": "stream",
     "text": [
      "The future value of the investment: 1159.27 USD\n"
     ]
    }
   ],
   "source": [
    "time=5\n",
    "presentVal=1000\n",
    "rate=0.03\n",
    "futValue=presentVal*pow((1+rate), time)\n",
    "result=round(futValue, 2)\n",
    "print(f\"The future value of the investment: {result} USD\")"
   ]
  }
 ],
 "metadata": {
  "kernelspec": {
   "display_name": "Python 3",
   "language": "python",
   "name": "python3"
  },
  "language_info": {
   "codemirror_mode": {
    "name": "ipython",
    "version": 3
   },
   "file_extension": ".py",
   "mimetype": "text/x-python",
   "name": "python",
   "nbconvert_exporter": "python",
   "pygments_lexer": "ipython3",
   "version": "3.12.4"
  }
 },
 "nbformat": 4,
 "nbformat_minor": 2
}
